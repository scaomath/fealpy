{
 "cells": [
  {
   "cell_type": "code",
   "execution_count": 5,
   "metadata": {},
   "outputs": [
    {
     "data": {
      "text/plain": [
       "<function matplotlib.pyplot.show(close=None, block=None)>"
      ]
     },
     "execution_count": 5,
     "metadata": {},
     "output_type": "execute_result"
    },
    {
     "data": {
      "image/png": "[encoded data removed]",
      "text/plain": [
       "<Figure size 432x288 with 1 Axes>"
      ]
     },
     "metadata": {
      "needs_background": "light"
     },
     "output_type": "display_data"
    }
   ],
   "source": [
    "import numpy as np\n",
    "import matplotlib.pyplot as plt\n",
    "from fealpy.mesh import IntervalMesh\n",
    "from fealpy.functionspace import LagrangeFiniteElementSpace\n",
    "\n",
    "NN = 6 #节点数\n",
    "NC = 5 #单元数\n",
    "\n",
    "node = np.linspace(0, 1, NN)\n",
    "node = node.reshape((NN, 1))\n",
    "cell = np.zeros((NC, 2), dtype=np.int_)\n",
    "for i in range(NC):\n",
    "    cell[i, 0] = i\n",
    "    cell[i, 1] = i+1\n",
    "\n",
    "mesh = IntervalMesh(node, cell)\n",
    "\n",
    "fig = plt.figure()\n",
    "axes = fig.gca()\n",
    "mesh.add_plot(axes)\n",
    "mesh.find_node(axes, fontsize=10, fontcolor='r', showindex=True, markersize=10)\n",
    "mesh.find_cell(axes, fontsize=10, fontcolor='b', showindex=True, markersize=15)\n",
    "plt.show\n",
    "\n",
    "# space = LagrangeFiniteElementSpace(mesh, 1)\n",
    "\n",
    "# ldof = space.number_of_local_dofs()\n",
    "# gdof = space.number_of_global_dofs()\n",
    "\n",
    "# A = space.stiff_matrix()\n",
    "# M = space.mass_matrix()\n"
   ]
  },
  {
   "cell_type": "code",
   "execution_count": null,
   "metadata": {},
   "outputs": [],
   "source": []
  }
 ],
 "metadata": {
  "kernelspec": {
   "display_name": "Python 3",
   "language": "python",
   "name": "python3"
  },
  "language_info": {
   "codemirror_mode": {
    "name": "ipython",
    "version": 3
   },
   "file_extension": ".py",
   "mimetype": "text/x-python",
   "name": "python",
   "nbconvert_exporter": "python",
   "pygments_lexer": "ipython3",
   "version": "3.8.10"
  }
 },
 "nbformat": 4,
 "nbformat_minor": 4
}
