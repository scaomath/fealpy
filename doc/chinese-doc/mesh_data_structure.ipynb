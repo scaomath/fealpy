{
 "cells": [
  {
   "cell_type": "markdown",
   "metadata": {},
   "source": [
    "# 网格的矩阵表示与"
   ]
  },
  {
   "cell_type": "markdown",
   "metadata": {},
   "source": [
    "* 基本数组\n",
    "* 命名与定向约定\n",
    "* 辅助数组的生成算法"
   ]
  },
  {
   "cell_type": "markdown",
   "metadata": {},
   "source": [
    "## Poisson 方程模型"
   ]
  },
  {
   "cell_type": "markdown",
   "metadata": {},
   "source": [
    "## Galerkin 方法"
   ]
  },
  {
   "cell_type": "markdown",
   "metadata": {},
   "source": [
    "## 有限元方法"
   ]
  },
  {
   "cell_type": "markdown",
   "metadata": {},
   "source": [
    "## 网格"
   ]
  },
  {
   "cell_type": "markdown",
   "metadata": {},
   "source": [
    "网格类型\n",
    "* 一维\n",
    "* 二维\n",
    "    + 三角形\n",
    "    + 四边形\n",
    "    + 多边形\n",
    "* 三维\n",
    "    + 四面体\n",
    "    + 六面体\n",
    "    + 多面体"
   ]
  },
  {
   "cell_type": "markdown",
   "metadata": {},
   "source": [
    "用两个基本数组表示一个网格：\n",
    "\n",
    "* node\n",
    "* cell\n",
    "\n",
    "给出三角形网格的实例，让学生写出其它类型网格的实例。\n",
    "\n",
    "关键概念：\n",
    "* 节点的单元局部编号\n",
    "* 节点的全局编号\n",
    "* 边的局部编号\n",
    "* 边的定向\n",
    "* 单元的定向"
   ]
  },
  {
   "cell_type": "markdown",
   "metadata": {},
   "source": [
    "以一个简单的三角形网格为例讲解 edge 生成算法\n",
    "\n",
    "1. 生成所有重复的边 \n",
    "\n",
    "```\n",
    "localEdge = np.array([(1, 2), (2, 0), (0, 1)])\n",
    "totalEdge = cell[:, localEdge].reshape(-1, 2)\n",
    "totalEdge = np.sort(totalEdge, axis=1)\n",
    "\n",
    "\n",
    "totalEdge:\n",
    "\n",
    "[[0 2]\n",
    " [0 1]\n",
    " [1 2]\n",
    " [0 2]\n",
    " [2 3]\n",
    " [0 3]]\n",
    "```\n",
    "\n",
    "2. 用字典排序生成唯一的边，不考虑边的定向问题 \n",
    "\n",
    "```\n",
    "edge, i0, j = unique_row(totalEdge) # 字典排序\n",
    "edge:\n",
    "\n",
    "[[0 1]\n",
    " [0 2]\n",
    " [0 3]\n",
    " [1 2]\n",
    " [2 3]]\n",
    "\n",
    "i0: [1 0 5 2 4]\n",
    "i1: [1 3 5 2 4]\n",
    "\n",
    "j : [1 0 3 1 4 2]\n",
    "cell2edge：[[1， 0, 3]\n",
    "            [1, 4, 2]]\n",
    "\n",
    "\n",
    "edge == totalEdge[i0, :]\n",
    "totalEdge = edge[j, :]\n",
    "```\n",
    "\n",
    "3. 利用 `i0`， `i1` 生成 `edge2cell`\n",
    "\n",
    "```\n",
    "NE = i0.shape[0]\n",
    "edge2cell = np.zeros((NE, 4), dtype=self.itype)\n",
    "i1 = np.zeros(NE, dtype=self.itype) \n",
    "i1[j] = np.arange(E*NC, dtype=self.itype)\n",
    "edge2cell[:, 0] = i0//3 \n",
    "edge2cell[:, 1] = i1//3\n",
    "edge2cell[:, 2] = i0%3 \n",
    "edge2cell[:, 3] = i1%3 \n",
    "```\n",
    "\n",
    "4. 得到定向的边 \n",
    "\n",
    "```\n",
    "edge = cell[edge2cell[:, [0]], localEdge[edge2cell[:, 2]]]\n",
    "```\n",
    "\n",
    "5. 利用 edge2cell 生成 `cell2cell`\n",
    "\n",
    "* 形状\n",
    "* 每个元素代表的意义"
   ]
  },
  {
   "cell_type": "markdown",
   "metadata": {},
   "source": [
    "以四边形为例， 生成上述数据结构"
   ]
  },
  {
   "cell_type": "markdown",
   "metadata": {},
   "source": [
    "多边形的数组结构"
   ]
  },
  {
   "cell_type": "code",
   "execution_count": 1,
   "metadata": {},
   "outputs": [
    {
     "data": {
      "image/png": "[encoded data removed]",
      "text/plain": [
       "<matplotlib.figure.Figure at 0x7faec1a84630>"
      ]
     },
     "metadata": {},
     "output_type": "display_data"
    }
   ],
   "source": [
    "import numpy as np\n",
    "import matplotlib.pyplot as plt \n",
    "import matplotlib.gridspec as gridspec\n",
    "%matplotlib inline\n",
    "from fealpy.mesh.PolygonMesh import PolygonMesh\n",
    "\n",
    "def labels(n):\n",
    "    r = [str(i)+':' for i in range(n)]\n",
    "    return r\n",
    "\n",
    "node = np.array([\n",
    "    [0, 0],\n",
    "    [1, 0],\n",
    "    [2, 0],\n",
    "    [0, 1],\n",
    "    [1, 1],\n",
    "    [2, 1],\n",
    "    [0, 2],\n",
    "    [1, 2],\n",
    "    [2, 2]], dtype=np.float)\n",
    "cell = np.array([1, 4, 0, 3, 0, 4, 1, 2, 5, 4, 3, 4, 7, 6, 4, 5, 8, 7], dtype=np.int)\n",
    "cellLocation = np.array([0, 3, 6, 10, 14, 18], dtype=np.int)\n",
    "\n",
    "mesh = PolygonMesh(node, cell, cellLocation)\n",
    "node = mesh.entity('node')\n",
    "edge = mesh.entity('edge')\n",
    "cell = mesh.ds.cell\n",
    "cellLocation = mesh.ds.cellLocation\n",
    "edge = mesh.ds.edge\n",
    "cell2edge = mesh.ds.cell_to_edge()\n",
    "edge2cell = mesh.ds.edge_to_cell()\n",
    "\n",
    "gs = gridspec.GridSpec(2, 2)\n",
    "axes = [plt.subplot(gs[:, 0]), plt.subplot(gs[0, 1]), plt.subplot(gs[1, 1])]\n",
    "mesh.add_plot(axes[0])\n",
    "mesh.find_node(axes[0], showindex=True, markersize=25, fontsize=12)\n",
    "mesh.find_edge(axes[0], showindex=True, markersize=50, fontsize=12)\n",
    "mesh.find_cell(axes[0], showindex=True, markersize=100, fontsize=12)\n",
    "axes[0].set_title('mesh', y=1)\n",
    "\n",
    "for ax in axes:\n",
    "    ax.axis('tight')\n",
    "    ax.axis('off')\n",
    "table = axes[1].table(cellText=cell.reshape(1, -1),  loc='center')\n",
    "axes[1].set_title('cell', y=0.6)\n",
    "table.set_fontsize(14)\n",
    "table.scale(1.4, 1.4)\n",
    "table = axes[2].table(cellText=cellLocation.reshape(1, -1), loc='center')\n",
    "axes[2].set_title('cellLocation', y=0.6)\n",
    "table.set_fontsize(14)\n",
    "table.scale(1.4, 1.4)\n",
    "#plt.tight_layout(pad=1, w_pad=0.5, h_pad=1)\n",
    "plt.savefig('/home/why/polyedgedata1.pdf')\n",
    "plt.show()"
   ]
  },
  {
   "cell_type": "markdown",
   "metadata": {},
   "source": [
    "1. to"
   ]
  }
 ],
 "metadata": {
  "kernelspec": {
   "display_name": "Python 3",
   "language": "python",
   "name": "python3"
  },
  "language_info": {
   "codemirror_mode": {
    "name": "ipython",
    "version": 3
   },
   "file_extension": ".py",
   "mimetype": "text/x-python",
   "name": "python",
   "nbconvert_exporter": "python",
   "pygments_lexer": "ipython3",
   "version": "3.6.7"
  },
  "latex_envs": {
   "bibliofile": "biblio.bib",
   "cite_by": "apalike",
   "current_citInitial": 1,
   "eqLabelWithNumbers": true,
   "eqNumInitial": 0
  }
 },
 "nbformat": 4,
 "nbformat_minor": 2
}
