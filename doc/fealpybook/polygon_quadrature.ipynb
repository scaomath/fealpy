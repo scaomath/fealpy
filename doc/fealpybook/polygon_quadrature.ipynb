{
 "cells": [
  {
   "cell_type": "markdown",
   "metadata": {},
   "source": [
    "# 多边形单元上的数值积分 "
   ]
  },
  {
   "cell_type": "markdown",
   "metadata": {},
   "source": [
    "## 问题描述"
   ]
  },
  {
   "cell_type": "markdown",
   "metadata": {},
   "source": [
    "给定一个多边形 $E$ 和 定义在 $E$ 上的函数 $f(\\mathbf x)$，其中 $\\mathbf x = (x, y)\\in E$,  利用数值积分计算:\n",
    "\n",
    "$$\n",
    "\\int_E f(\\mathbf x) \\mathrm d \\mathbf x\n",
    "$$\n",
    "\n",
    "* $f(\\mathbf x)$ 是一个齐次（homogeneous）函数\n",
    "* $E$ 是一个凸或凹的多边形"
   ]
  },
  {
   "cell_type": "markdown",
   "metadata": {},
   "source": [
    "## 存在方法"
   ]
  },
  {
   "cell_type": "markdown",
   "metadata": {},
   "source": [
    "* Triangulation\n",
    "* Divergence theorem\n",
    "* Moment fitting"
   ]
  },
  {
   "cell_type": "markdown",
   "metadata": {},
   "source": []
  },
  {
   "cell_type": "markdown",
   "metadata": {},
   "source": [
    "## 齐次函数\n",
    "\n",
    "$$\n",
    "f(\\lambda\\mathbf x) = \\lambda^qf(\\mathbf x),\\quad \\forall \\lambda > 0\n",
    "$$\n",
    "\n",
    "记 $ \\mathbf y = \\lambda \\mathbf x $, 上式对 $\\lambda$ 求导\n",
    "\n",
    "$$\n",
    "q\\lambda^{q-1}f(\\mathbf x) = \\nabla_{\\mathbf y}f \\cdot\\frac{\\partial\\mathbf y}{\\partial \\lambda} =\\nabla_{\\mathbf y}f \\cdot \\mathbf x\n",
    "$$\n",
    "\n",
    "取 $\\lambda = 1$, 可得：\n",
    "\n",
    "$$\n",
    "qf(\\mathbf x) = \\nabla f(\\mathbf x)\\cdot\\mathbf x\n",
    "$$"
   ]
  },
  {
   "cell_type": "markdown",
   "metadata": {},
   "source": [
    "给定一个定义在多边形 $E$ 上的齐次函数 $f(\\mathbf x)$, 记 \n",
    "\n",
    "$$\n",
    "\\mathbf F: = \\mathbf x f(\\mathbf x)\n",
    "$$\n",
    "\n",
    "代入散度定理公式\n",
    "\n",
    "$$\n",
    "\\int_E\\nabla\\cdot\\mathbf F \\mathrm d \\mathbf x = \\int_{\\partial E} \\mathbf F\\cdot \\mathbf n\\mathrm ds\n",
    "$$\n",
    "\n",
    "可得\n",
    "\n",
    "$$\n",
    "\\begin{align}\n",
    "& \\int_E\\nabla\\cdot[\\mathbf x f(\\mathbf x)]\\mathrm d \\mathbf x \\\\\n",
    "=& \\int_E (\\nabla\\cdot\\mathbf x)f(\\mathbf x)\\mathrm d \\mathbf x + \n",
    "\\int_E \\mathbf x\\cdot \\nabla f(\\mathbf x)\\mathrm d \\mathbf x\\\\\n",
    "=& 2 \\int_E f(\\mathbf x)\\mathrm d \\mathbf x + \n",
    "\\int_E qf(\\mathbf x)\\mathrm d \\mathbf x\\\\\n",
    "=& (q+2) \\int_E f(\\mathbf x)\\mathrm d \\mathbf x \\\\\n",
    "\\end{align}\n",
    "$$"
   ]
  },
  {
   "cell_type": "markdown",
   "metadata": {},
   "source": [
    "$$\n",
    "\\begin{align}\n",
    "& \\int_{\\partial E} (\\mathbf x\\cdot \\mathbf n)  f(\\mathbf x)\\mathrm ds\\\\\n",
    "=& \\sum_{e_i\\in\\partial E}\\int_{e_i} (\\mathbf x\\cdot \\mathbf n_i)  f(\\mathbf x)\\mathrm ds\\\\\n",
    "=& \\sum_{e_i\\in\\partial E}\\int_{e_i} [(\\mathbf x - \\mathbf x_i + \\mathbf x_i)\\cdot \\mathbf n_i] f(\\mathbf x)\\mathrm ds\\\\\n",
    "=& \\sum_{e_i\\in\\partial E}\\int_{e_i} (\\mathbf x_i\\cdot \\mathbf n_i)  f(\\mathbf x)\\mathrm ds\\\\\n",
    "=& \\sum_{e_i\\in\\partial E}(\\mathbf x_i\\cdot \\mathbf n_i)\\int_{e_i} f(\\mathbf x)\\mathrm ds\\\\\n",
    "\\end{align}\n",
    "$$"
   ]
  },
  {
   "cell_type": "markdown",
   "metadata": {},
   "source": [
    "$$\n",
    "f(x,y) = x^2 + y^2\n",
    "$$\n",
    "\n",
    "$$\n",
    "f(\\lambda x,\\lambda y) = (\\lambda x)^2 +  (\\lambda y)^2 = \\lambda^2 f(x, y)\n",
    "$$"
   ]
  },
  {
   "cell_type": "markdown",
   "metadata": {},
   "source": [
    "# Gauss 积分"
   ]
  },
  {
   "cell_type": "markdown",
   "metadata": {},
   "source": [
    "**代数精度** $\\quad$ 如果求积公式 $\\int_{a}^{b}f(x)\\mathrm dx\\thickapprox \\sum_{k=0}^{n}A_kf(x_k)$, 对所有次数小于等于 $m$ 的多项式是精确的, 但对 $m+1$ 次多项式不精确, 则称其具有 $m$ 次代数精度."
   ]
  },
  {
   "cell_type": "markdown",
   "metadata": {},
   "source": [
    "**利用正交多项式构造Gauss求积公式**\n",
    "\n",
    "设 $P_{n}(x),n = 0,1,2\\dots$ 为正交多项式序列, $P_n(x)$ 具有以下性质:\n",
    "* 对每个 $n$, $P_n(x)$ 是 $n$ 次多项式, $n = 0,1,2\\dots$\n",
    "* $\\int_{a}^{b}\\rho(x)p_i(x)p_j(x) \\mathrm dx = 0$\n",
    "* 对任意一个次数小于等于 $n-1$ 的多项式 $P(x)$ ,有 $\\int_{a}^{b}\\rho(x)p(x)P_n(x) \\mathrm dx = 0$, $n\\geq 1$\n",
    "* $P_n(x)$ 在 $(a,b)$ 内有 $n$ 个互异的零点."
   ]
  },
  {
   "cell_type": "markdown",
   "metadata": {},
   "source": [
    "**定理** $\\quad$ 设 $x_0,x_1,\\dots,x_n$ 是 $n+1$ 次正交多项式 $P_{n+1}(x)$ 的 $n+1$ 个零点, 则插值型求积公式\n",
    "\n",
    "$$\n",
    "\\int_{a}^{b}\\rho(x)f(x)\\mathrm dx = \\sum_{k=0}^{n}A_kf(x_k)+R_n\n",
    "$$\n",
    "\n",
    "$$\n",
    "A_k = \\int_{a}^{b}\\rho(x)\\Pi_{i=0,i\\neq k}^{n}\\frac{x-x_i}{x_k-x_i}\\mathrm dx\n",
    "$$\n",
    "\n",
    "$$\n",
    "R_n = \\frac{1}{(n+1)!}\\int_{a}^{b}f^{(n+1)}(\\xi(x))\\omega_{n+1}(x)\\rho(x)\\mathrm dx\n",
    "$$\n",
    "\n",
    "是 Gauss 型求积公式.这里 $\\omega_{n+1}(x)$ 是以节点 $x_i(i = 0,1,\\dots,n)$ 为零点的 $n+1$ 次多项式."
   ]
  },
  {
   "cell_type": "markdown",
   "metadata": {},
   "source": [
    "**注:**　$n+1$ 次 Legrendre 多项式为\n",
    "\n",
    "$$\n",
    "P_{n+1}(x) = \\frac{1}{(n+1)!2^{n+1}}\\frac{d^{n+1}}{dx^{n+1}}(x^2-1)^{n+1},\\quad x\\in[-1,1],\\quad n = 0,1,2\\dots\n",
    "$$\n",
    "\n",
    "其具有性质:\n",
    "* $n+1$ 次 Legrendre 多项式y与任意不超过 $n$ 次的多项式在区间 $[-1,1]$ 上正交\n",
    "* $n+1$ 次 Legrendre 多项式的 $n+1$ 个零点都在区间 $[-1,1]$ 内"
   ]
  },
  {
   "cell_type": "markdown",
   "metadata": {},
   "source": [
    "**利用正交多项式构造 Gauss 求积公式的基本步骤**\n",
    "\n",
    "* 以 $n+1$ 次正交多项式的零点 $x_0,x_1,x_2,\\dots,x_n$ 作为积分点（Gauss点）\n",
    "* 用 Gauss 点对 $f(x)$ 作 Lagrange 插值多项式 $f(x)\\thickapprox \\sum_{k=0}^{n}l_k(x)f(x_k)$，这里 $l_k(x) = \\Pi_{i=0,i\\neq k}^{n}\\frac{x-x_i}{x_k-x_i}$\n",
    "\n"
   ]
  },
  {
   "cell_type": "markdown",
   "metadata": {},
   "source": [
    "在区间 $[-1,1]$ 内函数 $f(x)$ 的 Gauss-Legrendre 积分:\n",
    "\n",
    "$$\n",
    "\\int_{-1}^{1}f(x)\\mathrm dx =  \\sum_{i=1}^{n}A_if(x_i)\n",
    "$$"
   ]
  },
  {
   "cell_type": "markdown",
   "metadata": {},
   "source": [
    "其中 $x_i$ 是高斯点, $A_i = \\int_{a}^{b}l_i(x)\\mathrm dx,i = 0,1,2,\\dots,n$ 是权重."
   ]
  },
  {
   "cell_type": "markdown",
   "metadata": {},
   "source": [
    "作变换 $x = \\frac{a+b}{2}+\\frac{b-a}{2}t$ ,即可得到将区间 $[a,b]$ 变换到 $[-1,1]$ 上,所以在任意区间 $[a,b]$ 上函数 $f(x)$ 的 Gauss-Legrendre 积分:\n",
    "\n",
    "$$\n",
    "\\begin{align}\n",
    "\\int_{a}^{b}f(x)\\mathrm dx \n",
    "&= \\frac{b-a}{2} \\int_{-1}^{1}f(\\frac{b-a}{2}x+\\frac{a+b}{2})\\mathrm dx\\\\\n",
    "& = \\frac{b-a}{2}\\sum_{i=1}^{n}A_if(\\frac{b-a}{2}x_i+\\frac{a+b}{2})\n",
    "\\end{align}\n",
    "$$"
   ]
  },
  {
   "cell_type": "markdown",
   "metadata": {},
   "source": [
    "|积分点的个数 $n$ |积分点 $x_i$ | 权重  $A_i$ |\n",
    "|:--------:|:---------:|:--------:|\n",
    "|0  | 0 |2 |\n",
    "|1  | $\\pm 0.5773503$ |1 |\n",
    "|2  | $\\pm 0.7745967$ |0.5555556 |\n",
    "|2  | 0 |0.8888889 |\n",
    "|3  | $\\pm 0.8611363$ |0.3478548 |\n",
    "|3  | $\\pm 0.3399810$ |0.6521452 |\n",
    "|4  | $\\pm 0.9061798$ |0.2369269 |\n",
    "|4  | $\\pm 0.5384693$ |0.4786287 |\n",
    "|4  | 0 |0.5688889 |\n",
    "|5  | $\\pm 0.9324695$ |0.1713245 |\n",
    "|5  | $\\pm 0.6612094$ |0.3607616 |\n",
    "|5  | $\\pm 0.2386192$ |0.4679139 |"
   ]
  },
  {
   "cell_type": "markdown",
   "metadata": {},
   "source": [
    "# Gauss–Lobatto rules"
   ]
  },
  {
   "cell_type": "markdown",
   "metadata": {},
   "source": [
    "它与高斯积分相似，具有以下区别:\n",
    "* 积分点包括积分区间的终点\n",
    "* 多项式达到次数是 $2n-3$ 时是精确的, 其中n是积分点的数量"
   ]
  },
  {
   "cell_type": "markdown",
   "metadata": {},
   "source": [
    "在区间 $[-1,1]$ 内函数 $f(x)$ 的 Lobatto 积分:\n",
    "\n",
    "$$\n",
    "\\int_{-1}^{1}f(x)\\mathrm dx = \\frac{2}{n(n-1)}[f(1)+f(-1)] + \\sum_{i=2}^{n-1}\\omega_if(x_i) + R_n\n",
    "$$\n",
    "\n",
    "其中 $x_i$ 是 $P'_{n-1}(x)$ 的 第 $i-1$ 个零点, $\\omega_i$ 是权重, $R_n$ 是余项."
   ]
  },
  {
   "cell_type": "markdown",
   "metadata": {},
   "source": [
    "权重:\n",
    "\n",
    "$$\n",
    "\\omega_i = \\frac{2}{n(n-1)[P_{n-1}(x_i)]^2},\\qquad x_i \\neq \\pm 1\n",
    "$$\n",
    "\n",
    "这里 $P_{n-1}(x)$ 是 $n-1$ 次 Legrendre 多项式."
   ]
  },
  {
   "cell_type": "markdown",
   "metadata": {},
   "source": [
    "余项:\n",
    "\n",
    "$$\n",
    "R_n = \\frac{-n(n-1)^32^{2n-1}[(n-2)!]^4}{(2n-1)[(2n-2)!]^3}f^{2n-2}(\\xi),\\qquad -1<\\xi<1\n",
    "$$"
   ]
  },
  {
   "cell_type": "markdown",
   "metadata": {},
   "source": [
    "一些权重:"
   ]
  },
  {
   "cell_type": "markdown",
   "metadata": {},
   "source": [
    "|积分点的个数 $n$ |$x_i$ | 权重  $\\omega_i$ |\n",
    "|:--------:|:---------:|:--------:|\n",
    "|3  | 0 |$\\frac{4}{3}$ |\n",
    "|3  | $\\pm 1$ |$\\frac{1}{3}$ |\n",
    "|4  | $\\pm\\sqrt{\\frac{1}{5}}$ |$\\frac{5}{6}$ |\n",
    "|4  | $\\pm 1$ |$\\frac{1}{6}$ |\n",
    "|5  | $0$ |$\\frac{32}{45}$ |\n",
    "|5  | $\\pm\\sqrt{\\frac{3}{7}}$ |$\\frac{49}{90}$ |\n",
    "|5  | $\\pm 1$ |$\\frac{1}{10}$ |\n",
    "|6  | $\\pm\\sqrt{\\frac{1}{3}-\\frac{2\\sqrt{7}}{21}}$ |$\\frac{14+\\sqrt{7}}{30}$ |\n",
    "|6  | $\\pm\\sqrt{\\frac{1}{3}+\\frac{2\\sqrt{7}}{21}}$ |$\\frac{14-\\sqrt{7}}{30}$ |\n",
    "|6  | $\\pm 1$ |$\\frac{1}{15}$ |\n",
    "|7  | $0$ |$\\frac{256}{525}$ |\n",
    "|7  | $\\pm\\sqrt{\\frac{5}{11}-\\frac{2}{11}\\sqrt{\\frac{5}{3}}}$ |$\\frac{124+7\\sqrt{15}}{350}$ |\n",
    "|7  | $\\pm\\sqrt{\\frac{5}{11}+\\frac{2}{11}\\sqrt{\\frac{5}{3}}}$ |$\\frac{124-7\\sqrt{15}}{350}$ |\n",
    "|7  | $\\pm 1$ |$\\frac{1}{21}$ |"
   ]
  },
  {
   "cell_type": "markdown",
   "metadata": {
    "collapsed": true
   },
   "source": [
    "## 数值实验"
   ]
  },
  {
   "cell_type": "code",
   "execution_count": 2,
   "metadata": {
    "collapsed": true
   },
   "outputs": [],
   "source": [
    "import numpy as np \n",
    "from fealpy.mesh.TriangleMesh import TriangleMesh\n",
    "from fealpy.quadrature.IntervalQuadrature import IntervalQuadrature\n",
    "from fealpy.quadrature.TriangleQuadrature import TriangleQuadrature\n",
    "from meshpy.triangle import MeshInfo, build\n",
    "\n",
    "import matplotlib.pyplot as plt \n",
    "%matplotlib inline\n",
    "from pylab import *\n",
    "\n",
    "def polygon_mesh(points, h):\n",
    "    ## 设置初始网格信息\n",
    "    N = points.shape[0]\n",
    "    facets = np.zeros((N, 2), dtype=np.int)\n",
    "    facets[:, 0] = range(N)\n",
    "    facets[0:-1, 1] = range(1, N)\n",
    "    mesh_info = MeshInfo()\n",
    "    mesh_info.set_points(points)\n",
    "    mesh_info.set_facets(facets.tolist())\n",
    "\n",
    "    ## 生成网格\n",
    "    mesh = build(mesh_info, max_volume=h**2)\n",
    "\n",
    "    ## 转化为 Fealpy 数据结构\n",
    "    point = np.array(mesh.points, dtype=np.float)\n",
    "    cell = np.array(mesh.elements, dtype=np.int)\n",
    "    tmesh = TriangleMesh(point, cell)\n",
    "\n",
    "    return tmesh \n",
    "\n",
    "def exact_quad(f):\n",
    "    tmesh = polygon_mesh(f.points, f.h)\n",
    "    tmesh.uniform_refine(n=4)\n",
    "    \n",
    "    cell = tmesh.ds.cell\n",
    "    point = tmesh.point \n",
    "    \n",
    "    NC = tmesh.number_of_cells()\n",
    "    \n",
    "    qf = TriangleQuadrature(11)\n",
    "    nQuad = qf.get_number_of_quad_points()\n",
    "    b = np.zeros(NC, dtype=np.float)\n",
    "    for i in range(nQuad):\n",
    "        lam_i, w_i = qf.get_gauss_point_and_weight(i)\n",
    "        p = np.einsum('j, ij...->i...', lam_i, point[cell])\n",
    "        b += f(p)*w_i\n",
    "    b *= tmesh.area()\n",
    "    return np.sum(b)\n",
    "    \n",
    "\n",
    "def polygon_quad(f, n):\n",
    "    \n",
    "    qf = IntervalQuadrature(n)\n",
    "    points = f.points\n",
    "    N = points.shape[0]\n",
    "    facets = np.zeros((N, 2), dtype=np.int32)\n",
    "    facets[:, 0] = range(N)\n",
    "    facets[0:-1, 1] = range(1, N)\n",
    "    \n",
    "    norm = points[facets[:, 1]] - points[facets[:, 0]]\n",
    "    W = np.array([[0, -1], [1, 0]])\n",
    "    norm = norm@W\n",
    "    \n",
    "    qf = IntervalQuadrature(n)\n",
    "    nQuad = qf.get_number_of_quad_points()\n",
    "    b = np.zeros(N, dtype=np.float)\n",
    "    for i in range(nQuad):\n",
    "        lam_i, w_i = qf.get_gauss_point_and_weight(i)\n",
    "        p = lam_i[0]*points[facets[:, 0]] + lam_i[1]*points[facets[:, 1]]\n",
    "        b += f(p)*w_i\n",
    "    \n",
    "    b *=np.sum(points*norm, axis=1)\n",
    "    return np.sum(b)/(f.q+2)\n"
   ]
  },
  {
   "cell_type": "code",
   "execution_count": 35,
   "metadata": {},
   "outputs": [
    {
     "name": "stdout",
     "output_type": "stream",
     "text": [
      "0.2\n",
      "[  1.78267045e-02   7.44949495e-03   8.06818182e-04   1.85528757e-05\n",
      "   1.13797860e-15]\n",
      "[  2.39300847e+00   9.23317684e+00   4.34875000e+01   1.63033608e+10]\n"
     ]
    },
    {
     "data": {
      "image/png": "[encoded data removed]",
      "text/plain": [
       "<matplotlib.figure.Figure at 0x7efbe4d7a128>"
      ]
     },
     "metadata": {},
     "output_type": "display_data"
    },
    {
     "data": {
      "image/png": "[encoded data removed]",
      "text/plain": [
       "<matplotlib.figure.Figure at 0x7efbe4d92f28>"
      ]
     },
     "metadata": {},
     "output_type": "display_data"
    }
   ],
   "source": [
    "class Example1():\n",
    "    def __init__(self, q=2, h=0.05):\n",
    "        self.h = h\n",
    "        self.q = q\n",
    "        self.points = np.array([\n",
    "                [0.0, 0.0],\n",
    "                [1.0, 0.0],\n",
    "                [1.0, 1.0],\n",
    "                [0.0, 1.0],\n",
    "            ])\n",
    "    def __call__(self, p):\n",
    "        x = p[:, 0]\n",
    "        y = p[:, 1]\n",
    "        q = self.q\n",
    "        return x**q + y**q\n",
    "\n",
    "f = Example1(q=9)\n",
    "fe = exact_quad(f)\n",
    "print(fe)\n",
    "maxit = 5\n",
    "error = np.zeros(maxit, dtype=np.float)\n",
    "fn = np.zeros(maxit, dtype=np.float)\n",
    "for n in range(1, maxit+1):\n",
    "    fn = polygon_quad(f, n)\n",
    "    error[n-1] = np.abs(fn-fe)\n",
    "print(error)\n",
    "print(error[:-1]/error[1:])\n",
    "\n",
    "\n",
    "g = plt.figure()\n",
    "axes = g.gca()\n",
    "axes.set_xlim([-0.1,1.1])  \n",
    "axes.set_ylim([-0.1,1.1])\n",
    "axes.set_axis_off()\n",
    "coord = [[0,0], [1,0], [1,1], [0,1]]\n",
    "coord.append(coord[0])\n",
    "xs, ys = zip(*coord)\n",
    "plt.plot(xs, ys, linewidth=1.0)\n",
    "plt.title('the figure of Integral area')\n",
    "plt.show()\n",
    "\n",
    "x = np.arange(1,maxit+1)\n",
    "y = error\n",
    "plt.plot(x,y)\n",
    "xlabel('the number of integral points')\n",
    "ylabel('error')\n",
    "plt.show()"
   ]
  },
  {
   "cell_type": "code",
   "execution_count": 31,
   "metadata": {},
   "outputs": [
    {
     "name": "stdout",
     "output_type": "stream",
     "text": [
      "3.40370198438\n",
      "[  2.61172256e-01   2.82146087e-02   1.95577539e-03   1.18470381e-04\n",
      "   6.65766744e-06   3.54879904e-07   1.81670048e-08   9.00306052e-10\n",
      "   4.34527969e-11   2.07389661e-12]\n",
      "[  9.25663222  14.42630318  16.50855992  17.79457781  18.76033938\n",
      "  19.53431004  20.17869896  20.71917381  20.95224839]\n"
     ]
    },
    {
     "data": {
      "image/png": "[encoded data removed]",
      "text/plain": [
       "<matplotlib.figure.Figure at 0x7efc0e644940>"
      ]
     },
     "metadata": {},
     "output_type": "display_data"
    },
    {
     "data": {
      "image/png": "[encoded data removed]",
      "text/plain": [
       "<matplotlib.figure.Figure at 0x7efbe4b44fd0>"
      ]
     },
     "metadata": {},
     "output_type": "display_data"
    }
   ],
   "source": [
    "class Example2():\n",
    "    def __init__(self, h=0.05):\n",
    "        self.h = h\n",
    "        self.q = 0\n",
    "        self.points = np.array([\n",
    "                [1.0, 1.0],\n",
    "                [2.0, 1.0],\n",
    "                [2.0, 2.0],\n",
    "                [1.0, 2.0],\n",
    "                [0.5, 1.5]\n",
    "            ])\n",
    "    def __call__(self, p):\n",
    "        x = p[:, 0]\n",
    "        y = p[:, 1]\n",
    "        return np.exp(x/y)\n",
    "    \n",
    "f = Example2()\n",
    "fe = exact_quad(f)\n",
    "print(fe)\n",
    "maxit = 10\n",
    "error = np.zeros(maxit, dtype=np.float)\n",
    "for n in range(1, maxit+1):\n",
    "    fn = polygon_quad(f, n)\n",
    "    error[n-1] = np.abs(fn-fe)\n",
    "print(error)\n",
    "print(error[:-1]/error[1:])\n",
    "\n",
    "g = plt.figure()\n",
    "axes = g.gca()\n",
    "axes.set_xlim([0.5,2.1])  \n",
    "axes.set_ylim([0.9,2.1])\n",
    "axes.set_axis_off()\n",
    "coord = [[1,1], [2,1], [2,2], [1,2], [0.5,1.5]]\n",
    "coord.append(coord[0])\n",
    "xs, ys = zip(*coord)\n",
    "plt.plot(xs, ys,linewidth=1.0)\n",
    "plt.title('the figure of Integral area')\n",
    "plt.show()\n",
    "\n",
    "\n",
    "x = np.arange(1,maxit+1)\n",
    "y = error\n",
    "plt.plot(x,y)\n",
    "xlabel('the number of integral points')\n",
    "ylabel('error')\n",
    "plt.show()"
   ]
  },
  {
   "cell_type": "code",
   "execution_count": 36,
   "metadata": {},
   "outputs": [
    {
     "name": "stdout",
     "output_type": "stream",
     "text": [
      "78.2083333333\n",
      "[  2.08333333e-01   5.68434189e-13   5.68434189e-13]\n",
      "[  3.66503876e+11   1.00000000e+00]\n"
     ]
    },
    {
     "data": {
      "image/png": "[encoded data removed]",
      "text/plain": [
       "<matplotlib.figure.Figure at 0x7efc0e61e7f0>"
      ]
     },
     "metadata": {},
     "output_type": "display_data"
    },
    {
     "data": {
      "image/png": "[encoded data removed]",
      "text/plain": [
       "<matplotlib.figure.Figure at 0x7efbe4c74ba8>"
      ]
     },
     "metadata": {},
     "output_type": "display_data"
    }
   ],
   "source": [
    "class Example3():\n",
    "    def __init__(self, h=0.05):\n",
    "        self.h = h\n",
    "        self.q = 2\n",
    "        self.points = np.array([\n",
    "                [0.0, 0.0],\n",
    "                [2.0, 0.0],\n",
    "                [4.0, 1.0],\n",
    "                [4.0, 4.0],\n",
    "                [3.0, 5.0],\n",
    "                [1.0, 4.0]\n",
    "            ])\n",
    "    def __call__(self, p):\n",
    "        x = p[:, 0]\n",
    "        y = p[:, 1]\n",
    "        return x*y\n",
    "\n",
    "f = Example3()\n",
    "fe = exact_quad(f)\n",
    "print(fe)\n",
    "maxit = 3\n",
    "error = np.zeros(maxit, dtype=np.float)\n",
    "for n in range(1, maxit+1):\n",
    "    fn = polygon_quad(f, n)\n",
    "    error[n-1] = np.abs(fn-fe)\n",
    "print(error)\n",
    "print(error[:-1]/error[1:])\n",
    "\n",
    "g = plt.figure()\n",
    "axes = g.gca()\n",
    "axes.set_xlim([-0.1,4.1])  \n",
    "axes.set_ylim([-0.1,5.1])\n",
    "axes.set_axis_off()\n",
    "coord = [[0,0], [2,0], [4,1], [4,4],[3,5],[1,4]]\n",
    "coord.append(coord[0])\n",
    "xs, ys = zip(*coord)\n",
    "plt.plot(xs, ys, linewidth=1.0)\n",
    "plt.title('the figure of Integral area')\n",
    "plt.show()\n",
    "\n",
    "x = np.arange(1,maxit+1)\n",
    "y = error\n",
    "plt.plot(x,y)\n",
    "xlabel('the number of integral points')\n",
    "ylabel('error')\n",
    "plt.show()"
   ]
  },
  {
   "cell_type": "code",
   "execution_count": 41,
   "metadata": {},
   "outputs": [
    {
     "name": "stdout",
     "output_type": "stream",
     "text": [
      "35.0\n",
      "33.75\n",
      "35.0\n",
      "35.0\n",
      "[  1.25000000e+00   2.48689958e-13   2.55795385e-13]\n",
      "[  5.02633887e+12   9.72222222e-01]\n"
     ]
    },
    {
     "data": {
      "image/png": "[encoded data removed]",
      "text/plain": [
       "<matplotlib.figure.Figure at 0x7efbe4c8b7f0>"
      ]
     },
     "metadata": {},
     "output_type": "display_data"
    },
    {
     "data": {
      "image/png": "[encoded data removed]",
      "text/plain": [
       "<matplotlib.figure.Figure at 0x7efc0e6a5780>"
      ]
     },
     "metadata": {},
     "output_type": "display_data"
    }
   ],
   "source": [
    "class Example4():\n",
    "    def __init__(self, h=0.05):\n",
    "        self.h = h\n",
    "        self.q = 2\n",
    "        self.points = np.array([\n",
    "                [1.0, 1.0],\n",
    "                [3.0, 1.0],\n",
    "                [5.0, 5.0],\n",
    "                [2.0, 2.0],\n",
    "                [0.0, 4.0]\n",
    "            ])\n",
    "    def __call__(self, p):\n",
    "        x = p[:, 0]\n",
    "        y = p[:, 1]\n",
    "        return x*y\n",
    "\n",
    "f = Example4()\n",
    "fe = exact_quad(f)\n",
    "print(fe)\n",
    "maxit = 3\n",
    "error = np.zeros(maxit, dtype=np.float)\n",
    "for n in range(1, maxit+1):\n",
    "    fn = polygon_quad(f, n)\n",
    "    error[n-1] = np.abs(fn-fe)\n",
    "    print(fn)\n",
    "print(error)\n",
    "print(error[:-1]/error[1:])\n",
    "\n",
    "g = plt.figure()\n",
    "axes = g.gca()\n",
    "axes.set_axis_off()\n",
    "coord = [[1,1], [3,1], [5,5], [2,2],[0,4]]\n",
    "coord.append(coord[0])\n",
    "xs, ys = zip(*coord)\n",
    "plt.plot(xs, ys, linewidth=1.0)\n",
    "plt.title('the figure of Integral area')\n",
    "plt.show()\n",
    "\n",
    "x = np.arange(1,maxit+1)\n",
    "y = error\n",
    "plt.plot(x,y)\n",
    "xlabel('the number of integral points')\n",
    "ylabel('error')\n",
    "plt.show()"
   ]
  },
  {
   "cell_type": "code",
   "execution_count": 1,
   "metadata": {
    "collapsed": true
   },
   "outputs": [],
   "source": [
    "from IPython.display import display\n",
    "from sympy import *\n",
    "import numpy as np\n",
    "init_printing()"
   ]
  },
  {
   "cell_type": "code",
   "execution_count": 8,
   "metadata": {},
   "outputs": [
    {
     "data": {
      "image/png": "[encoded data removed]",
      "text/latex": [
       "$$\\sin{\\left (\\pi x \\right )} \\sin{\\left (\\pi y \\right )}$$"
      ],
      "text/plain": [
       "sin(π⋅x)⋅sin(π⋅y)"
      ]
     },
     "metadata": {},
     "output_type": "display_data"
    }
   ],
   "source": [
    "x, y = symbols('x, y')\n",
    "f = sin(pi*x)*sin(pi*y)\n",
    "f1 = f.series(x=(x, y), x0=(0, 0), n=4)\n",
    "display(f1)"
   ]
  },
  {
   "cell_type": "code",
   "execution_count": null,
   "metadata": {
    "collapsed": true
   },
   "outputs": [],
   "source": []
  }
 ],
 "metadata": {
  "kernelspec": {
   "display_name": "Python 3",
   "language": "python",
   "name": "python3"
  },
  "language_info": {
   "codemirror_mode": {
    "name": "ipython",
    "version": 3
   },
   "file_extension": ".py",
   "mimetype": "text/x-python",
   "name": "python",
   "nbconvert_exporter": "python",
   "pygments_lexer": "ipython3",
   "version": "3.6.9"
  },
  "latex_envs": {
   "LaTeX_envs_menu_present": true,
   "autoclose": false,
   "autocomplete": true,
   "bibliofile": "biblio.bib",
   "cite_by": "apalike",
   "current_citInitial": 1,
   "eqLabelWithNumbers": true,
   "eqNumInitial": 0,
   "hotkeys": {
    "equation": "Ctrl-E",
    "itemize": "Ctrl-I"
   },
   "labels_anchors": false,
   "latex_user_defs": false,
   "report_style_numbering": false,
   "user_envs_cfg": false
  },
  "toc": {
   "base_numbering": 1,
   "nav_menu": {},
   "number_sections": true,
   "sideBar": true,
   "skip_h1_title": false,
   "title_cell": "Table of Contents",
   "title_sidebar": "Contents",
   "toc_cell": false,
   "toc_position": {},
   "toc_section_display": true,
   "toc_window_display": false
  }
 },
 "nbformat": 4,
 "nbformat_minor": 1
}
